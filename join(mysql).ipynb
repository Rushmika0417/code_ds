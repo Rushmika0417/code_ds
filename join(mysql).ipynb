{
 "cells": [
  {
   "cell_type": "code",
   "execution_count": 1,
   "id": "58dc0436",
   "metadata": {},
   "outputs": [],
   "source": [
    "import pymysql"
   ]
  },
  {
   "cell_type": "code",
   "execution_count": 2,
   "id": "4d7298a7",
   "metadata": {},
   "outputs": [],
   "source": [
    "x=pymysql.connect(user='root',host='localhost',password='Password@123',database='project3')\n",
    "cr=x.cursor()"
   ]
  },
  {
   "cell_type": "code",
   "execution_count": 3,
   "id": "b3326910",
   "metadata": {},
   "outputs": [
    {
     "name": "stdout",
     "output_type": "stream",
     "text": [
      "success\n"
     ]
    }
   ],
   "source": [
    "cr.execute('insert into data3(id,name,mob,dept) values(123,\"rushmi\",987653,7)')\n",
    "print(\"success\")\n",
    "x.commit()\n",
    "x.close()"
   ]
  },
  {
   "cell_type": "code",
   "execution_count": 4,
   "id": "4b0ab5df",
   "metadata": {},
   "outputs": [],
   "source": [
    "import pymysql\n",
    "x=pymysql.connect(user='root',host='localhost',password='Password@123',database='project3')\n",
    "cr=x.cursor()"
   ]
  },
  {
   "cell_type": "code",
   "execution_count": null,
   "id": "7a513673",
   "metadata": {},
   "outputs": [],
   "source": [
    "cr.execute('create table data(id int(6),name char(10),age int(3))')"
   ]
  },
  {
   "cell_type": "code",
   "execution_count": null,
   "id": "9ed8084e",
   "metadata": {},
   "outputs": [],
   "source": [
    "cr.execute('insert into data(id,name,age) values(1234, \"vinay\", 22)')\n",
    "cr.execute('insert into data(id,name,age) values(2345, \"logan\", 21)')\n",
    "cr.execute('insert into data(id,name,age) values(3456, \"elric\", 23)')\n",
    "cr.execute('insert into data(id,name,age) values(4567, \"adam\", 22)')\n",
    "x.commit()\n",
    "x.close()"
   ]
  },
  {
   "cell_type": "code",
   "execution_count": null,
   "id": "b8be5557",
   "metadata": {},
   "outputs": [],
   "source": [
    "import pymysql\n",
    "x=pymysql.connect(user='root',host='localhost',password='Password@123',database='project4')\n",
    "cr=x.cursor()"
   ]
  },
  {
   "cell_type": "code",
   "execution_count": null,
   "id": "9a71990e",
   "metadata": {},
   "outputs": [],
   "source": [
    "cr.execute('create table states(sno int(6),state char(15),language char(10),city char(15))')"
   ]
  },
  {
   "cell_type": "code",
   "execution_count": null,
   "id": "0c215dfa",
   "metadata": {},
   "outputs": [],
   "source": [
    "cr.execute('insert into states(sno,state,language,city) values(1,\"ANDHRA\",\"telugu\",\"vijayawada\")')\n",
    "cr.execute('insert into states(sno,state,language,city) values(2,\"TAMILNADU\",\"tamil\",\"chennai\")')\n",
    "cr.execute('insert into states(sno,state,language,city) values(3,\"KERALA\",\"malayalam\",\"Tcr\")')\n",
    "cr.execute('insert into states(sno,state,language,city) values(4,\"KARNATAKA\",\"kannada\",\"Bnglr\")')\n",
    "x.commit()\n",
    "x.close()"
   ]
  }
 ],
 "metadata": {
  "kernelspec": {
   "display_name": "Python 3 (ipykernel)",
   "language": "python",
   "name": "python3"
  },
  "language_info": {
   "codemirror_mode": {
    "name": "ipython",
    "version": 3
   },
   "file_extension": ".py",
   "mimetype": "text/x-python",
   "name": "python",
   "nbconvert_exporter": "python",
   "pygments_lexer": "ipython3",
   "version": "3.10.9"
  }
 },
 "nbformat": 4,
 "nbformat_minor": 5
}
